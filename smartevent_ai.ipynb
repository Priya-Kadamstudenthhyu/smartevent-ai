{
  "nbformat": 4,
  "nbformat_minor": 0,
  "metadata": {
    "colab": {
      "provenance": [],
      "authorship_tag": "ABX9TyMspajs2ywmL7K0tJLs4S9j",
      "include_colab_link": true
    },
    "kernelspec": {
      "name": "python3",
      "display_name": "Python 3"
    },
    "language_info": {
      "name": "python"
    }
  },
  "cells": [
    {
      "cell_type": "markdown",
      "metadata": {
        "id": "view-in-github",
        "colab_type": "text"
      },
      "source": [
        "<a href=\"https://colab.research.google.com/github/Priya-Kadamstudenthhyu/smartevent-ai/blob/main/smartevent_ai.ipynb\" target=\"_parent\"><img src=\"https://colab.research.google.com/assets/colab-badge.svg\" alt=\"Open In Colab\"/></a>"
      ]
    },
    {
      "cell_type": "code",
      "execution_count": 1,
      "metadata": {
        "colab": {
          "base_uri": "https://localhost:8080/"
        },
        "id": "cox5pVVuTisB",
        "outputId": "ee76e7b4-0edb-4b15-cff9-c41803b55497"
      },
      "outputs": [
        {
          "output_type": "stream",
          "name": "stdout",
          "text": [
            "🎯 Event Type: Wedding\n",
            "📍 Location: Pune\n",
            "💰 Total Budget: ₹200000\n",
            "----------------------------------------------------\n",
            "✅ Recommended Vendor Plan:\n",
            "\n",
            "📌 Venue: Elegant Tents - ₹50000 (Rating: 4.2)\n",
            "📌 Catering: Sweet Moments Catering - ₹90000 (Rating: 4.8)\n",
            "📌 Decorator: Floral Bliss - ₹40000 (Rating: 4.5)\n",
            "📌 Entertainment: DJ Max - ₹30000 (Rating: 4.7)\n",
            "📌 Photography: Lens Studio - ₹35000 (Rating: 4.6)\n",
            "\n",
            "----------------------------------------------------\n",
            "🧾 Estimated Total Cost: ₹245000\n",
            "⚠ Total cost exceeds budget. Consider adjusting vendors or budget.\n",
            "\n",
            "📝 Suggested Planning Steps:\n",
            "1. Finalize guest count and theme.\n",
            "2. Book venue 2–3 months in advance.\n",
            "3. Schedule meetings with vendors.\n",
            "4. Confirm menu and decor design.\n",
            "5. Arrange rehearsals and backup plans.\n",
            "6. Lock photography and music slots.\n"
          ]
        }
      ],
      "source": [
        "# 📌 SmartEvent AI – Vendor Recommendation & Event Planner\n",
        "# 👩‍💻 Internship Task – UtsavAi Round 1\n",
        "# 🧪 Built using mock data and basic logic (No external APIs)\n",
        "\n",
        "\n",
        "\n",
        "event_type = \"Wedding\"\n",
        "location = \"Pune\"\n",
        "budget = 200000\n",
        "\n",
        "print(f\"🎯 Event Type: {event_type}\")\n",
        "print(f\"📍 Location: {location}\")\n",
        "print(f\"💰 Total Budget: ₹{budget}\")\n",
        "print(\"----------------------------------------------------\")\n",
        "\n",
        "\n",
        "#  Step 2: Define Mock Vendor Data\n",
        "\n",
        "\n",
        "vendors = [\n",
        "    {\"name\": \"Floral Bliss\", \"type\": \"Decorator\", \"location\": \"Pune\", \"cost\": 40000, \"rating\": 4.5},\n",
        "    {\"name\": \"DJ Max\", \"type\": \"Entertainment\", \"location\": \"Pune\", \"cost\": 30000, \"rating\": 4.7},\n",
        "    {\"name\": \"Sweet Moments Catering\", \"type\": \"Catering\", \"location\": \"Pune\", \"cost\": 90000, \"rating\": 4.8},\n",
        "    {\"name\": \"Lens Studio\", \"type\": \"Photography\", \"location\": \"Pune\", \"cost\": 35000, \"rating\": 4.6},\n",
        "    {\"name\": \"Elegant Tents\", \"type\": \"Venue\", \"location\": \"Pune\", \"cost\": 50000, \"rating\": 4.2},\n",
        "    {\"name\": \"SoundWaves DJ\", \"type\": \"Entertainment\", \"location\": \"Mumbai\", \"cost\": 25000, \"rating\": 4.3},  # other city\n",
        "]\n",
        "\n",
        "\n",
        "#  Step 3: Budget Distribution by Category\n",
        "\n",
        "\n",
        "budget_allocation = {\n",
        "    \"Venue\": 0.25,\n",
        "    \"Catering\": 0.4,\n",
        "    \"Decorator\": 0.15,\n",
        "    \"Entertainment\": 0.1,\n",
        "    \"Photography\": 0.1,\n",
        "}\n",
        "\n",
        "\n",
        "# Step 4: Vendor Scoring Function\n",
        "\n",
        "\n",
        "def vendor_score(vendor, ideal_cost):\n",
        "    diff = abs(ideal_cost - vendor[\"cost\"])\n",
        "    score = (5 - diff / ideal_cost) * vendor[\"rating\"]\n",
        "    return round(score, 2)\n",
        "\n",
        "#  Step 5: Vendor Recommendation Logic\n",
        "\n",
        "\n",
        "recommended_vendors = []\n",
        "total_cost = 0\n",
        "\n",
        "for category, percent in budget_allocation.items():\n",
        "    ideal_cost = budget * percent\n",
        "\n",
        "    suitable = [v for v in vendors if v[\"location\"] == location and v[\"type\"] == category]\n",
        "\n",
        "    if suitable:\n",
        "        scored = [(v, vendor_score(v, ideal_cost)) for v in suitable]\n",
        "        best_vendor = max(scored, key=lambda x: x[1])[0]  # Select the vendor with highest score\n",
        "\n",
        "        recommended_vendors.append((category, best_vendor))\n",
        "        total_cost += best_vendor[\"cost\"]\n",
        "\n",
        "\n",
        "#  Step 6: Output Recommended Plan\n",
        "\n",
        "\n",
        "print(\"✅ Recommended Vendor Plan:\\n\")\n",
        "\n",
        "for category, vendor in recommended_vendors:\n",
        "    print(f\"📌 {category}: {vendor['name']} - ₹{vendor['cost']} (Rating: {vendor['rating']})\")\n",
        "\n",
        "print(\"\\n----------------------------------------------------\")\n",
        "print(f\"🧾 Estimated Total Cost: ₹{total_cost}\")\n",
        "if total_cost > budget:\n",
        "    print(\"⚠ Total cost exceeds budget. Consider adjusting vendors or budget.\")\n",
        "else:\n",
        "    print(\"✅ Total cost is within budget!\")\n",
        "\n",
        "#  Step 7: Planning Steps\n",
        "\n",
        "print(\"\\n📝 Suggested Planning Steps:\")\n",
        "print(\"1. Finalize guest count and theme.\")\n",
        "print(\"2. Book venue 2–3 months in advance.\")\n",
        "print(\"3. Schedule meetings with vendors.\")\n",
        "print(\"4. Confirm menu and decor design.\")\n",
        "print(\"5. Arrange rehearsals and backup plans.\")\n",
        "print(\"6. Lock photography and music slots.\")\n"
      ]
    },
    {
      "cell_type": "code",
      "source": [],
      "metadata": {
        "id": "fuUCSbp2TlIX"
      },
      "execution_count": null,
      "outputs": []
    },
    {
      "cell_type": "code",
      "source": [],
      "metadata": {
        "id": "67u5B0sBTlLU"
      },
      "execution_count": null,
      "outputs": []
    }
  ]
}